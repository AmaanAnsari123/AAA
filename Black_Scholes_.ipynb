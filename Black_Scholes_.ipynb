{
  "nbformat": 4,
  "nbformat_minor": 0,
  "metadata": {
    "colab": {
      "provenance": [],
      "authorship_tag": "ABX9TyNPaX3+dF5qsvqOgnueL3eM",
      "include_colab_link": true
    },
    "kernelspec": {
      "name": "python3",
      "display_name": "Python 3"
    },
    "language_info": {
      "name": "python"
    }
  },
  "cells": [
    {
      "cell_type": "markdown",
      "metadata": {
        "id": "view-in-github",
        "colab_type": "text"
      },
      "source": [
        "<a href=\"https://colab.research.google.com/github/AmaanAnsari123/AAA/blob/main/Black_Scholes_.ipynb\" target=\"_parent\"><img src=\"https://colab.research.google.com/assets/colab-badge.svg\" alt=\"Open In Colab\"/></a>"
      ]
    },
    {
      "cell_type": "code",
      "execution_count": null,
      "metadata": {
        "colab": {
          "base_uri": "https://localhost:8080/"
        },
        "id": "H2bf4-VhI2sV",
        "outputId": "78f8ef22-06ea-494c-90e5-be6327b69f02"
      },
      "outputs": [
        {
          "output_type": "stream",
          "name": "stdout",
          "text": [
            "Theoretical call option price: 10.45\n"
          ]
        }
      ],
      "source": [
        "import math\n",
        "\n",
        "def black_scholes(option_type, S, K, T, r, sigma):\n",
        "    \"\"\"\n",
        "    Calculate the option price using the Black-Scholes formula.\n",
        "\n",
        "    :param option_type: 'call' for call option, 'put' for put option\n",
        "    :param S: Current stock price\n",
        "    :param K: Strike price\n",
        "    :param T: Time to expiration (in years)\n",
        "    :param r: Risk-free interest rate (annual)\n",
        "    :param sigma: Volatility of the underlying stock (annual)\n",
        "    :return: Option price\n",
        "    \"\"\"\n",
        "    d1 = (math.log(S / K) + (r + (sigma ** 2) / 2) * T) / (sigma * math.sqrt(T))\n",
        "    d2 = d1 - sigma * math.sqrt(T)\n",
        "\n",
        "    if option_type == 'call':\n",
        "        option_price = S * norm_cdf(d1) - K * math.exp(-r * T) * norm_cdf(d2)\n",
        "    elif option_type == 'put':\n",
        "        option_price = K * math.exp(-r * T) * norm_cdf(-d2) - S * norm_cdf(-d1)\n",
        "    else:\n",
        "        raise ValueError(\"Invalid option type. Use 'call' or 'put'.\")\n",
        "\n",
        "    return option_price\n",
        "\n",
        "def norm_cdf(x):\n",
        "    \"\"\"Calculate the cumulative distribution function of the standard normal distribution.\"\"\"\n",
        "    return (1.0 + math.erf(x / math.sqrt(2.0))) / 2.0\n",
        "\n",
        "# Example usage:\n",
        "option_type = 'call'  # 'call' for call option, 'put' for put option\n",
        "S = 100  # Current stock price\n",
        "K = 100  # Strike price\n",
        "T = 1  # Time to expiration (in years)\n",
        "r = 0.05  # Risk-free interest rate (annual)\n",
        "sigma = 0.2  # Volatility of the underlying stock (annual)\n",
        "\n",
        "option_price = black_scholes(option_type, S, K, T, r, sigma)\n",
        "print(f\"Theoretical {option_type} option price: {option_price:.2f}\")\n"
      ]
    },
    {
      "cell_type": "code",
      "source": [
        "import math\n",
        "from scipy.stats import norm\n",
        "\n",
        "def black_scholes(option_type, S, K, T, r, sigma):\n",
        "    \"\"\"\n",
        "    Calculate the option price using the Black-Scholes formula.\n",
        "\n",
        "    :param option_type: 'call' for call option, 'put' for put option\n",
        "    :param S: Current stock price\n",
        "    :param K: Strike price\n",
        "    :param T: Time to expiration (in years)\n",
        "    :param r: Risk-free interest rate (annual)\n",
        "    :param sigma: Volatility of the underlying stock (annual)\n",
        "    :return: Option price, Delta, Gamma, Theta, Vega, Rho\n",
        "    \"\"\"\n",
        "    d1 = (math.log(S / K) + (r + (sigma ** 2) / 2) * T) / (sigma * math.sqrt(T))\n",
        "    d2 = d1 - sigma * math.sqrt(T)\n",
        "\n",
        "    if option_type == 'call':\n",
        "        option_price = S * norm.cdf(d1) - K * math.exp(-r * T) * norm.cdf(d2)\n",
        "        delta = norm.cdf(d1)\n",
        "    elif option_type == 'put':\n",
        "        option_price = K * math.exp(-r * T) * norm.cdf(-d2) - S * norm.cdf(-d1)\n",
        "        delta = -norm.cdf(-d1)\n",
        "    else:\n",
        "        raise ValueError(\"Invalid option type. Use 'call' or 'put'.\")\n",
        "\n",
        "    # Calculate Greeks\n",
        "    gamma = norm.pdf(d1) / (S * sigma * math.sqrt(T))\n",
        "    theta = -(S * sigma * norm.pdf(d1)) / (2 * math.sqrt(T)) - r * K * math.exp(-r * T) * norm.cdf(d2)\n",
        "    vega = S * math.sqrt(T) * norm.pdf(d1)\n",
        "    rho = K * T * math.exp(-r * T) * norm.cdf(d2)\n",
        "\n",
        "    return option_price, delta, gamma, theta, vega, rho\n",
        "\n",
        "# Example usage:\n",
        "option_type = 'call'  # 'call' for call option, 'put' for put option\n",
        "S = 100  # Current stock price\n",
        "K = 100  # Strike price\n",
        "T = 1  # Time to expiration (in years)\n",
        "r = 0.05  # Risk-free interest rate (annual)\n",
        "sigma = 0.2  # Volatility of the underlying stock (annual)\n",
        "\n",
        "option_price, delta, gamma, theta, vega, rho = black_scholes(option_type, S, K, T, r, sigma)\n",
        "print(f\"Theoretical {option_type} option price: {option_price:.2f}\")\n",
        "print(f\"Delta: {delta:.4f}\")\n",
        "print(f\"Gamma: {gamma:.4f}\")\n",
        "print(f\"Theta: {theta:.4f}\")\n",
        "print(f\"Vega: {vega:.4f}\")\n",
        "print(f\"Rho: {rho:.4f}\")\n"
      ],
      "metadata": {
        "colab": {
          "base_uri": "https://localhost:8080/"
        },
        "id": "Fa0aQzDtJaui",
        "outputId": "4fb8e613-2c0d-4ec9-ca1b-e80009cb6cd7"
      },
      "execution_count": null,
      "outputs": [
        {
          "output_type": "stream",
          "name": "stdout",
          "text": [
            "Theoretical call option price: 10.45\n",
            "Delta: 0.6368\n",
            "Gamma: 0.0188\n",
            "Theta: -6.4140\n",
            "Vega: 37.5240\n",
            "Rho: 53.2325\n"
          ]
        }
      ]
    },
    {
      "cell_type": "code",
      "source": [
        "import math\n",
        "from scipy.stats import norm\n",
        "\n",
        "def black_scholes_put(S, K, T, r, sigma):\n",
        "    \"\"\"\n",
        "    Calculate the value of a put option using the Black-Scholes formula.\n",
        "\n",
        "    :param S: Current stock price\n",
        "    :param K: Strike price\n",
        "    :param T: Time to expiration (in years)\n",
        "    :param r: Risk-free interest rate (annual)\n",
        "    :param sigma: Volatility of the underlying stock (annual)\n",
        "    :return: Put option price\n",
        "    \"\"\"\n",
        "    d1 = (math.log(S / K) + (r + (sigma ** 2) / 2) * T) / (sigma * math.sqrt(T))\n",
        "    d2 = d1 - sigma * math.sqrt(T)\n",
        "\n",
        "    put_option_price = K * math.exp(-r * T) * norm.cdf(-d2) - S * norm.cdf(-d1)\n",
        "\n",
        "    return put_option_price\n",
        "\n",
        "# Example usage:\n",
        "S = 100  # Current stock price\n",
        "K = 100  # Strike price\n",
        "T = 1  # Time to expiration (in years)\n",
        "r = 0.05  # Risk-free interest rate (annual)\n",
        "sigma = 0.2  # Volatility of the underlying stock (annual)\n",
        "\n",
        "put_option_price = black_scholes_put(S, K, T, r, sigma)\n",
        "print(f\"Theoretical put option price: {put_option_price:.2f}\")\n"
      ],
      "metadata": {
        "colab": {
          "base_uri": "https://localhost:8080/"
        },
        "id": "8NrsreYLJlc2",
        "outputId": "2d64b7d5-6585-4384-a1da-596ced130438"
      },
      "execution_count": null,
      "outputs": [
        {
          "output_type": "stream",
          "name": "stdout",
          "text": [
            "Theoretical put option price: 5.57\n"
          ]
        }
      ]
    },
    {
      "cell_type": "code",
      "source": [
        "import math as m\n",
        "import numpy as np\n",
        "import matplotlib.pyplot as plt\n",
        "\n",
        "global sigma, r, K, T, xL, xH\n",
        "\n",
        "def BSPut(s, tau, K):\n",
        "    d1 = []\n",
        "    d2 = []\n",
        "    p = []\n",
        "    for i in range(len(s)):\n",
        "        d1.append((m.log(s[i] / K) + (r + sigma ** 2 / 2) * tau) / (sigma * m.sqrt(tau)))\n",
        "    for i in range(len(s)):\n",
        "        d2.append(d1[i] - sigma * m.sqrt(tau))\n",
        "    for i in range(len(s)):\n",
        "        p.append((-s[i] * m.erfc(d1[i] / m.sqrt(2)) + K * m.exp(-r * tau) * m.erfc(d2[i] / m.sqrt(2))) / 2)\n",
        "    return p\n",
        "\n",
        "def fh(u, x, tau, T):\n",
        "    mu = (((sigma / 2) - (r / sigma)) / (m.sqrt(2)))\n",
        "    nu = r + mu ** 2\n",
        "    t = T - tau\n",
        "    s = []\n",
        "    v = []\n",
        "    for i in range(len(x)):\n",
        "        s.append(m.exp((sigma * x[i]) / m.sqrt(2)))\n",
        "        v.append(m.exp(mu * x[i] - nu * tau) * (u))\n",
        "    return s, v\n",
        "\n",
        "def hf(v, s, t, T):\n",
        "    mu = (((sigma / 2) - (r / sigma)) / (m.sqrt(2)))\n",
        "    nu = r + mu ** 2\n",
        "    tau = T - t\n",
        "    x = []\n",
        "    u = []\n",
        "    if type(v) == list:\n",
        "        for i in range(len(s)):\n",
        "            x.append(m.sqrt(2) * m.log(s[i]) / sigma)\n",
        "            u.append(v[i] / m.exp(mu * x[i] - nu * tau))\n",
        "    else:\n",
        "        for i in range(len(s)):\n",
        "            x.append(m.sqrt(2) * m.log(s[i]) / sigma)\n",
        "            u.append(v / m.exp(mu * x[i] - nu * tau))\n",
        "    return x, u\n",
        "\n",
        "def u0(x):\n",
        "    s, trash = fh(0, x, 0, 0)\n",
        "    v = vT(s)\n",
        "    x, u = hf(v, s, 0, 0)\n",
        "    return u\n",
        "\n",
        "def uH(x, tau):\n",
        "    s, v = fh(0, x, tau, tau)\n",
        "    v = vH(s, 0, tau)\n",
        "    x, u = hf(v, s, 0, tau)\n",
        "    return u\n",
        "\n",
        "def uL(x, tau):\n",
        "    s, v = fh(0, x, tau, T)\n",
        "    v = vL(s, 0, tau)\n",
        "    x, u = hf(v, s, 0, tau)\n",
        "    return u\n",
        "\n",
        "def vH(s, t, T):\n",
        "    v = 0\n",
        "    return v\n",
        "\n",
        "def vL(s, t, T):\n",
        "    v = []\n",
        "    for i in range(len(s)):\n",
        "        v.append(K * m.exp(r * (T - t)) - s[i])\n",
        "    return v\n",
        "\n",
        "def vT(s):\n",
        "    v_mod = []\n",
        "    for i in range(len(s)):\n",
        "        v_mod.append((K - s[i]))\n",
        "    for i in range(len(v_mod)):\n",
        "        if (v_mod[i] < 0):\n",
        "            v_mod[i] = 0\n",
        "    return v_mod\n",
        "\n",
        "Stock_lower = 50\n",
        "Stock_higher = 150\n",
        "K = 100\n",
        "sigma = 0.2\n",
        "r = 0.01\n",
        "T = 1\n",
        "\n",
        "x, u = hf(0, [Stock_lower, Stock_higher], 0, 0)\n",
        "xL = x[0]\n",
        "xH = x[1]\n",
        "\n",
        "N = 100\n",
        "M = 1000\n",
        "dx = (xH - xL) / (N + 1)\n",
        "dt = T / M\n",
        "alpha = dt / (dx) ** 2\n",
        "x = np.linspace(xL, xH, N + 2)\n",
        "u = []\n",
        "u = u0(x[1:N])\n",
        "print(u)\n",
        "tau = 0\n",
        "\n",
        "u1 = u[1:N]\n",
        "u2 = u[0:N - 1]\n",
        "\n",
        "for i in range(1, M):\n",
        "    uH_value = alpha * uH([xH], tau)[0]\n",
        "    uL_value = alpha * uL([xL], tau)[0]\n",
        "    tau = i * dt\n",
        "\n",
        "u_mod = []\n",
        "u1_mod = []\n",
        "u2_mod = []\n",
        "\n",
        "for j in range(1, M):\n",
        "    for i in range(len(u1)):\n",
        "        if (0 < i < M):\n",
        "            u[i] = u1[i] * alpha + u2[i] * alpha + (1 - (2 * alpha)) * u[i]\n",
        "\n",
        "        elif (i == M):\n",
        "            u[i] = uH([xH], tau)[0] + u2[i] * alpha + (1 - (2 * alpha)) * u[i]\n",
        "\n",
        "u_master = []\n",
        "for i in range(len(u)):\n",
        "    u_master.append(u[i])\n",
        "\n",
        "u_master.insert(0, uL([xL], T)[0])\n",
        "u_master.append(uH([xH], T)[0])\n",
        "\n",
        "s, trash = fh(0, x, 0, 0)\n",
        "true_values = hf(BSPut(s, T, K), s, 0, T)\n",
        "\n",
        "x_master = x[0:len(x) - 1]\n",
        "u.append(0)\n",
        "u.append(0)\n",
        "\n",
        "# Reverse the order of x and u values for correct plotting\n",
        "x_master = x[0:len(x) - 1]\n",
        "u_master = u_master[::-1]\n",
        "\n",
        "# Plot the correct graph\n",
        "plt.plot(x_master, u_master, \"*\")\n",
        "plt.xlabel('x - axis')\n",
        "plt.ylabel('y - axis')\n",
        "plt.show()\n"
      ],
      "metadata": {
        "colab": {
          "base_uri": "https://localhost:8080/",
          "height": 487
        },
        "id": "ur0BCgkgNeaS",
        "outputId": "ca995dd0-7faf-4ff8-bcc5-190e4a85406f"
      },
      "execution_count": 1,
      "outputs": [
        {
          "output_type": "stream",
          "name": "stdout",
          "text": [
            "[18.54686826785041, 18.289736746365325, 18.031609813119225, 17.772476297644285, 17.51232494616336, 17.251144420885293, 16.98892329929456, 16.725650073435105, 16.461313149188484, 16.195900845545946, 15.92940139387475, 15.661802937178681, 15.393093529352223, 15.123261134428848, 14.852293625823457, 14.580178785568116, 14.306904303542163, 14.032457776695718, 13.756826708266983, 13.479998506993224, 13.201960486315311, 12.922699863575824, 12.642203759210526, 12.360459195933641, 12.077453097915903, 11.79317228995656, 11.507603496648251, 11.220733341535222, 10.932548346264772, 10.643034929731558, 10.352179407215402, 10.059967989511593, 9.766386782054344, 9.471421784033335, 9.175058887502567, 8.877283876482515, 8.578082426054616, 8.277440101448532, 7.975342357121984, 7.6717745358331015, 7.366721867705236, 7.06016946928402, 6.752102342587192, 6.442505374146015, 6.131363334039547, 5.818660874920767, 5.504382531034575, 5.188512717228272, 4.871035727953606, 4.551935736260854, 4.231196792784707, 3.9088028247218585, 3.5847376348003497, 3.2589849002403577, 2.931528171706802, 2.6023508722531616, 2.271436296256783, 1.9387676083456804, 1.6043278423161715, 1.2680999000422495, 0.9300665503756618, 0.590210428037227, 0.24851403249892565, 0.0, 0.0, 0.0, 0.0, 0.0, 0.0, 0.0, 0.0, 0.0, 0.0, 0.0, 0.0, 0.0, 0.0, 0.0, 0.0, 0.0, 0.0, 0.0, 0.0, 0.0, 0.0, 0.0, 0.0, 0.0, 0.0, 0.0, 0.0, 0.0, 0.0, 0.0, 0.0, 0.0, 0.0, 0.0, 0.0]\n"
          ]
        },
        {
          "output_type": "display_data",
          "data": {
            "text/plain": [
              "<Figure size 640x480 with 1 Axes>"
            ],
            "image/png": "[encoded data removed]"
          },
          "metadata": {}
        }
      ]
    }
  ]
}