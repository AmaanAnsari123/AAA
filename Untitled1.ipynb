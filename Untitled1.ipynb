{
  "nbformat": 4,
  "nbformat_minor": 0,
  "metadata": {
    "colab": {
      "provenance": [],
      "authorship_tag": "ABX9TyMOtVXlxDRB5mZQXOMO9Gqp",
      "include_colab_link": true
    },
    "kernelspec": {
      "name": "python3",
      "display_name": "Python 3"
    },
    "language_info": {
      "name": "python"
    }
  },
  "cells": [
    {
      "cell_type": "markdown",
      "metadata": {
        "id": "view-in-github",
        "colab_type": "text"
      },
      "source": [
        "<a href=\"https://colab.research.google.com/github/AmaanAnsari123/AAA/blob/main/Untitled1.ipynb\" target=\"_parent\"><img src=\"https://colab.research.google.com/assets/colab-badge.svg\" alt=\"Open In Colab\"/></a>"
      ]
    },
    {
      "cell_type": "code",
      "execution_count": 1,
      "metadata": {
        "colab": {
          "base_uri": "https://localhost:8080/"
        },
        "id": "H2bf4-VhI2sV",
        "outputId": "78f8ef22-06ea-494c-90e5-be6327b69f02"
      },
      "outputs": [
        {
          "output_type": "stream",
          "name": "stdout",
          "text": [
            "Theoretical call option price: 10.45\n"
          ]
        }
      ],
      "source": [
        "import math\n",
        "\n",
        "def black_scholes(option_type, S, K, T, r, sigma):\n",
        "    \"\"\"\n",
        "    Calculate the option price using the Black-Scholes formula.\n",
        "\n",
        "    :param option_type: 'call' for call option, 'put' for put option\n",
        "    :param S: Current stock price\n",
        "    :param K: Strike price\n",
        "    :param T: Time to expiration (in years)\n",
        "    :param r: Risk-free interest rate (annual)\n",
        "    :param sigma: Volatility of the underlying stock (annual)\n",
        "    :return: Option price\n",
        "    \"\"\"\n",
        "    d1 = (math.log(S / K) + (r + (sigma ** 2) / 2) * T) / (sigma * math.sqrt(T))\n",
        "    d2 = d1 - sigma * math.sqrt(T)\n",
        "\n",
        "    if option_type == 'call':\n",
        "        option_price = S * norm_cdf(d1) - K * math.exp(-r * T) * norm_cdf(d2)\n",
        "    elif option_type == 'put':\n",
        "        option_price = K * math.exp(-r * T) * norm_cdf(-d2) - S * norm_cdf(-d1)\n",
        "    else:\n",
        "        raise ValueError(\"Invalid option type. Use 'call' or 'put'.\")\n",
        "\n",
        "    return option_price\n",
        "\n",
        "def norm_cdf(x):\n",
        "    \"\"\"Calculate the cumulative distribution function of the standard normal distribution.\"\"\"\n",
        "    return (1.0 + math.erf(x / math.sqrt(2.0))) / 2.0\n",
        "\n",
        "# Example usage:\n",
        "option_type = 'call'  # 'call' for call option, 'put' for put option\n",
        "S = 100  # Current stock price\n",
        "K = 100  # Strike price\n",
        "T = 1  # Time to expiration (in years)\n",
        "r = 0.05  # Risk-free interest rate (annual)\n",
        "sigma = 0.2  # Volatility of the underlying stock (annual)\n",
        "\n",
        "option_price = black_scholes(option_type, S, K, T, r, sigma)\n",
        "print(f\"Theoretical {option_type} option price: {option_price:.2f}\")\n"
      ]
    },
    {
      "cell_type": "code",
      "source": [
        "import math\n",
        "from scipy.stats import norm\n",
        "\n",
        "def black_scholes(option_type, S, K, T, r, sigma):\n",
        "    \"\"\"\n",
        "    Calculate the option price using the Black-Scholes formula.\n",
        "\n",
        "    :param option_type: 'call' for call option, 'put' for put option\n",
        "    :param S: Current stock price\n",
        "    :param K: Strike price\n",
        "    :param T: Time to expiration (in years)\n",
        "    :param r: Risk-free interest rate (annual)\n",
        "    :param sigma: Volatility of the underlying stock (annual)\n",
        "    :return: Option price, Delta, Gamma, Theta, Vega, Rho\n",
        "    \"\"\"\n",
        "    d1 = (math.log(S / K) + (r + (sigma ** 2) / 2) * T) / (sigma * math.sqrt(T))\n",
        "    d2 = d1 - sigma * math.sqrt(T)\n",
        "\n",
        "    if option_type == 'call':\n",
        "        option_price = S * norm.cdf(d1) - K * math.exp(-r * T) * norm.cdf(d2)\n",
        "        delta = norm.cdf(d1)\n",
        "    elif option_type == 'put':\n",
        "        option_price = K * math.exp(-r * T) * norm.cdf(-d2) - S * norm.cdf(-d1)\n",
        "        delta = -norm.cdf(-d1)\n",
        "    else:\n",
        "        raise ValueError(\"Invalid option type. Use 'call' or 'put'.\")\n",
        "\n",
        "    # Calculate Greeks\n",
        "    gamma = norm.pdf(d1) / (S * sigma * math.sqrt(T))\n",
        "    theta = -(S * sigma * norm.pdf(d1)) / (2 * math.sqrt(T)) - r * K * math.exp(-r * T) * norm.cdf(d2)\n",
        "    vega = S * math.sqrt(T) * norm.pdf(d1)\n",
        "    rho = K * T * math.exp(-r * T) * norm.cdf(d2)\n",
        "\n",
        "    return option_price, delta, gamma, theta, vega, rho\n",
        "\n",
        "# Example usage:\n",
        "option_type = 'call'  # 'call' for call option, 'put' for put option\n",
        "S = 100  # Current stock price\n",
        "K = 100  # Strike price\n",
        "T = 1  # Time to expiration (in years)\n",
        "r = 0.05  # Risk-free interest rate (annual)\n",
        "sigma = 0.2  # Volatility of the underlying stock (annual)\n",
        "\n",
        "option_price, delta, gamma, theta, vega, rho = black_scholes(option_type, S, K, T, r, sigma)\n",
        "print(f\"Theoretical {option_type} option price: {option_price:.2f}\")\n",
        "print(f\"Delta: {delta:.4f}\")\n",
        "print(f\"Gamma: {gamma:.4f}\")\n",
        "print(f\"Theta: {theta:.4f}\")\n",
        "print(f\"Vega: {vega:.4f}\")\n",
        "print(f\"Rho: {rho:.4f}\")\n"
      ],
      "metadata": {
        "colab": {
          "base_uri": "https://localhost:8080/"
        },
        "id": "Fa0aQzDtJaui",
        "outputId": "4fb8e613-2c0d-4ec9-ca1b-e80009cb6cd7"
      },
      "execution_count": 2,
      "outputs": [
        {
          "output_type": "stream",
          "name": "stdout",
          "text": [
            "Theoretical call option price: 10.45\n",
            "Delta: 0.6368\n",
            "Gamma: 0.0188\n",
            "Theta: -6.4140\n",
            "Vega: 37.5240\n",
            "Rho: 53.2325\n"
          ]
        }
      ]
    },
    {
      "cell_type": "code",
      "source": [
        "import math\n",
        "from scipy.stats import norm\n",
        "\n",
        "def black_scholes_put(S, K, T, r, sigma):\n",
        "    \"\"\"\n",
        "    Calculate the value of a put option using the Black-Scholes formula.\n",
        "\n",
        "    :param S: Current stock price\n",
        "    :param K: Strike price\n",
        "    :param T: Time to expiration (in years)\n",
        "    :param r: Risk-free interest rate (annual)\n",
        "    :param sigma: Volatility of the underlying stock (annual)\n",
        "    :return: Put option price\n",
        "    \"\"\"\n",
        "    d1 = (math.log(S / K) + (r + (sigma ** 2) / 2) * T) / (sigma * math.sqrt(T))\n",
        "    d2 = d1 - sigma * math.sqrt(T)\n",
        "\n",
        "    put_option_price = K * math.exp(-r * T) * norm.cdf(-d2) - S * norm.cdf(-d1)\n",
        "\n",
        "    return put_option_price\n",
        "\n",
        "# Example usage:\n",
        "S = 100  # Current stock price\n",
        "K = 100  # Strike price\n",
        "T = 1  # Time to expiration (in years)\n",
        "r = 0.05  # Risk-free interest rate (annual)\n",
        "sigma = 0.2  # Volatility of the underlying stock (annual)\n",
        "\n",
        "put_option_price = black_scholes_put(S, K, T, r, sigma)\n",
        "print(f\"Theoretical put option price: {put_option_price:.2f}\")\n"
      ],
      "metadata": {
        "colab": {
          "base_uri": "https://localhost:8080/"
        },
        "id": "8NrsreYLJlc2",
        "outputId": "2d64b7d5-6585-4384-a1da-596ced130438"
      },
      "execution_count": 3,
      "outputs": [
        {
          "output_type": "stream",
          "name": "stdout",
          "text": [
            "Theoretical put option price: 5.57\n"
          ]
        }
      ]
    }
  ]
}